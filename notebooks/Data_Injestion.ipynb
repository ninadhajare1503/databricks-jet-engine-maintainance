{
 "cells": [
  {
   "cell_type": "code",
   "execution_count": 0,
   "metadata": {
    "application/vnd.databricks.v1+cell": {
     "cellMetadata": {
      "byteLimit": 2048000,
      "rowLimit": 10000
     },
     "inputWidgets": {},
     "nuid": "5afd7cc1-edae-4210-9490-899a453e82b7",
     "showTitle": false,
     "tableResultSettingsMap": {},
     "title": ""
    }
   },
   "outputs": [],
   "source": [
    "import os\n",
    "\n",
    "# 1. Standard setup: Get environment and define paths\n",
    "dbutils.widgets.text(\"env\", \"dev\", \"Environment\")\n",
    "env = dbutils.widgets.get(\"env\")\n",
    "\n",
    "catalog_name = \"jet_engine_predictive_maintenance\"\n",
    "schema_name = f\"{env}\"\n",
    "volume_name = \"raw_data\"\n",
    "\n",
    "# Destination path in Unity Catalog\n",
    "volume_path = f\"/Volumes/{catalog_name}/{schema_name}/{volume_name}\"\n",
    "\n",
    "# Source path in the Git repo (finds the absolute path)\n",
    "repo_data_path = os.path.join(os.path.dirname(os.getcwd()), \"data\")\n",
    "\n",
    "print(f\"Running for environment: '{env}'\")\n",
    "print(f\"Source Repo Path: '{repo_data_path}'\")\n",
    "print(f\"Target Volume Path: '{volume_path}'\")\n",
    "\n",
    "# 2. Create the necessary UC objects\n",
    "spark.sql(f\"CREATE CATALOG IF NOT EXISTS {catalog_name}\")\n",
    "spark.sql(f\"CREATE SCHEMA IF NOT EXISTS {catalog_name}.{schema_name}\")\n",
    "spark.sql(f\"CREATE VOLUME IF NOT EXISTS {catalog_name}.{schema_name}.{volume_name}\")\n",
    "\n",
    "# --- THE DEFINITIVE FIX STARTS HERE ---\n",
    "\n",
    "# 3. Use Python's native file handling to read from the repo and write to the Volume\n",
    "print(\"\\nSyncing files from Git repo to the Volume using Python I/O...\")\n",
    "\n",
    "# Get a list of all CSV files from the local repo folder\n",
    "csv_files_in_repo = [f for f in os.listdir(repo_data_path) if f.endswith('.csv')]\n",
    "\n",
    "for file_name in csv_files_in_repo:\n",
    "    # Source path on the local disk\n",
    "    local_file_path = os.path.join(repo_data_path, file_name)\n",
    "    \n",
    "    # Destination path in the UC Volume\n",
    "    volume_file_path = os.path.join(volume_path, file_name)\n",
    "\n",
    "    # Read the file content using standard Python\n",
    "    with open(local_file_path, \"r\") as f:\n",
    "        file_content = f.read()\n",
    "\n",
    "    # Write the content to the Volume using dbutils.fs.put()\n",
    "    dbutils.fs.put(volume_file_path, file_content, overwrite=True)\n",
    "    print(f\"  - Copied '{file_name}' to Volume.\")\n",
    "\n",
    "print(\"✅ Sync complete.\")\n",
    "\n",
    "# --- END OF FIX ---\n",
    "\n",
    "\n",
    "# 4. Read from the Volume and create the tables (this part is the same)\n",
    "print(\"\\nStarting table ingestion from Volume...\")\n",
    "csv_files_in_volume = [f.name for f in dbutils.fs.ls(volume_path) if f.name.endswith('.csv')]\n",
    "\n",
    "if not csv_files_in_volume:\n",
    "    print(\"No CSV files found in the Volume.\")\n",
    "else:\n",
    "    for csv_file in csv_files_in_volume:\n",
    "        file_path = os.path.join(volume_path, csv_file)\n",
    "        table_name = os.path.splitext(csv_file)[0].replace('-', '_')\n",
    "        full_table_path = f\"{catalog_name}.{schema_name}.{table_name}\"\n",
    "\n",
    "        df = spark.read.format(\"csv\") \\\n",
    "                      .option(\"header\", \"true\") \\\n",
    "                      .option(\"inferSchema\", \"true\") \\\n",
    "                      .load(file_path)\n",
    "\n",
    "        df.write.mode(\"overwrite\").saveAsTable(full_table_path)\n",
    "        print(f\"✅ Successfully ingested '{csv_file}' to table '{table_name}'.\")\n",
    "\n",
    "print(\"\\n--- Ingestion complete! ---\")"
   ]
  }
 ],
 "metadata": {
  "application/vnd.databricks.v1+notebook": {
   "computePreferences": null,
   "dashboards": [],
   "environmentMetadata": {
    "base_environment": "",
    "environment_version": "3"
   },
   "inputWidgetPreferences": null,
   "language": "python",
   "notebookMetadata": {
    "mostRecentlyExecutedCommandWithImplicitDF": {
     "commandId": 6545909913755866,
     "dataframes": [
      "_sqldf"
     ]
    },
    "pythonIndentUnit": 4
   },
   "notebookName": "Data_Injestion",
   "widgets": {
    "env": {
     "currentValue": "dev",
     "nuid": "a8d819a5-4e96-4083-abd6-c747aa09b1a0",
     "typedWidgetInfo": {
      "autoCreated": false,
      "defaultValue": "dev",
      "label": "Environment",
      "name": "env",
      "options": {
       "widgetDisplayType": "Text",
       "validationRegex": null
      },
      "parameterDataType": "String"
     },
     "widgetInfo": {
      "widgetType": "text",
      "defaultValue": "dev",
      "label": "Environment",
      "name": "env",
      "options": {
       "widgetType": "text",
       "autoCreated": null,
       "validationRegex": null
      }
     }
    }
   }
  },
  "language_info": {
   "name": "python"
  }
 },
 "nbformat": 4,
 "nbformat_minor": 0
}
